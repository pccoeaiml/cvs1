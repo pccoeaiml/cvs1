{
  "metadata": {
    "colab": {
      "provenance": [
        {
          "file_id": "1nIQEu_0DoHMBKCsBIoVZw565yL9OKMrJ",
          "timestamp": 1699175351285
        }
      ],
      "authorship_tag": "ABX9TyPoxx5VSaIDrqI3lercqIZm"
    },
    "kernelspec": {
      "name": "python",
      "display_name": "Python (Pyodide)",
      "language": "python"
    },
    "language_info": {
      "codemirror_mode": {
        "name": "python",
        "version": 3
      },
      "file_extension": ".py",
      "mimetype": "text/x-python",
      "name": "python",
      "nbconvert_exporter": "python",
      "pygments_lexer": "ipython3",
      "version": "3.8"
    }
  },
  "nbformat_minor": 4,
  "nbformat": 4,
  "cells": [
    {
      "cell_type": "code",
      "source": "import numpy as np\nfrom scipy.stats import ttest_ind, chi2_contingency, f_oneway\n\n# Example datasets (you can replace these with your own data)\ndata_group1 = np.array([23, 26, 30, 32, 28, 33, 29, 27, 31, 24])\ndata_group2 = np.array([18, 21, 25, 19, 22, 26, 20, 24, 23, 17])\ncategorical_data = np.array([40, 60, 20, 30])  # Categorical data for Chi-Square test\ngrouped_data = [data_group1, data_group2]  # Data for ANOVA test\n\n# Perform Student's t-test for independent samples\nt_stat, p_value = ttest_ind(data_group1, data_group2)\nprint(\"Student's t-test:\")\nprint(f\"T-statistic: {t_stat}\")\nprint(f\"P-value: {p_value}\\n\")\n\n\n# Perform Z-test for a single sample\nsample_mean = 28  # Replace with your sample mean\npopulation_stddev = 5  # Replace with your population standard deviation\nsample_size = 10  # Replace with your sample size\nz_stat = (np.mean(data_group1) - sample_mean) / (population_stddev / np.sqrt(sample_size))\np_value = 2 * (1 - stats.norm.cdf(abs(z_stat)))\nprint(\"Z-test for a single sample:\")\nprint(f\"Z-statistic: {z_stat}\")\nprint(f\"P-value: {p_value}\\n\")\n\n# Perform Chi-Square test for categorical data\nexpected_frequencies = np.array([0.25, 0.35, 0.15, 0.25]) * categorical_data.sum()\nchi2_stat, p_value, dof, expected = chi2_contingency(categorical_data.reshape(1, -1))\nprint(\"Chi-Square test:\")\nprint(f\"Chi-Square statistic: {chi2_stat}\")\nprint(f\"P-value: {p_value}\\n\")\n\n# Perform one-way ANOVA test\nf_stat, p_value = f_oneway(data_group1, data_group2)\nprint(\"One-way ANOVA test:\")\nprint(f\"F-statistic: {f_stat}\")\nprint(f\"P-value: {p_value}\")\n\n# In this Python code, we're using some tools to check things in our data. First, we compare two groups with a t-test, \n# telling us if they are different. Then, we manually calculate a Z-test for a single sample, checking if it's different from what we expect.\n# After that, we run a chi-square test to see if there's a relationship in categorical data. Finally, we perform a one-way ANOVA test on grouped data,\n# helping us understand if there are differences among these groups. Each test gives us specific information about our data and helps us make informed decisions or observations.",
      "metadata": {
        "colab": {
          "base_uri": "https://localhost:8080/"
        },
        "id": "dVhrOEMysA-O",
        "executionInfo": {
          "status": "ok",
          "timestamp": 1699175240300,
          "user_tz": -330,
          "elapsed": 652,
          "user": {
            "displayName": "SWETANK RAUT",
            "userId": "05410599824603448530"
          }
        },
        "outputId": "8912da28-4689-4958-a9e5-92de7282cc4b"
      },
      "execution_count": 4,
      "outputs": [
        {
          "output_type": "stream",
          "name": "stdout",
          "text": "Student's t-test:\n\nT-statistic: 4.773971047449272\n\nP-value: 0.00015178483496409807\n\n\n\nZ-test for a single sample:\n\nZ-statistic: 0.18973665961010322\n\nP-value: 0.8495154923650345\n\n\n\nChi-Square test:\n\nChi-Square statistic: 0.0\n\nP-value: 1.0\n\n\n\nOne-way ANOVA test:\n\nF-statistic: 22.790799561883894\n\nP-value: 0.00015178483496409807\n"
        }
      ]
    }
  ]
}
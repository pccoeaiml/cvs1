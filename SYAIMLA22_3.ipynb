{
  "metadata": {
    "kernelspec": {
      "name": "python",
      "display_name": "Python (Pyodide)",
      "language": "python"
    },
    "language_info": {
      "codemirror_mode": {
        "name": "python",
        "version": 3
      },
      "file_extension": ".py",
      "mimetype": "text/x-python",
      "name": "python",
      "nbconvert_exporter": "python",
      "pygments_lexer": "ipython3",
      "version": "3.8"
    },
    "colab": {
      "provenance": []
    }
  },
  "nbformat_minor": 5,
  "nbformat": 4,
  "cells": [
    {
      "cell_type": "code",
      "source": [
        "import numpy as np\n",
        "matrix1 = np.array([[1, 2, 3],\n",
        " [4, 5, 6],\n",
        " [7, 8, 9]])\n",
        "matrix2 = np.array([[9, 8, 7],\n",
        " [6, 5, 4],\n",
        " [3, 2, 1]])\n"
      ],
      "metadata": {
        "id": "aae2ff3e"
      },
      "execution_count": null,
      "outputs": [],
      "id": "aae2ff3e"
    },
    {
      "cell_type": "code",
      "source": [
        "matrix_sum = np.add(matrix1, matrix2)\n",
        "matrix_diff = np.subtract(matrix1, matrix2)\n",
        "\n",
        "print(\"Matrix Addition:\")\n",
        "print(matrix_sum)\n",
        "\n",
        "print(\"\\nMatrix Subtraction:\")\n",
        "print(matrix_diff)\n"
      ],
      "metadata": {
        "id": "f65092ab",
        "outputId": "dd70cee0-d58f-4e94-d3b3-ba2d2e6ce507"
      },
      "execution_count": null,
      "outputs": [
        {
          "name": "stdout",
          "output_type": "stream",
          "text": "Matrix Addition:\n\n[[10 10 10]\n\n [10 10 10]\n\n [10 10 10]]\n\n\n\nMatrix Subtraction:\n\n[[-8 -6 -4]\n\n [-2  0  2]\n\n [ 4  6  8]]\n"
        }
      ],
      "id": "f65092ab"
    },
    {
      "cell_type": "code",
      "source": [
        "matrix1 = np.array([[1, 2, 3],\n",
        " [4, 5, 6],\n",
        " [7, 8, 9]])\n",
        "\n",
        "matrix2 = np.array([[9, 8, 7],\n",
        " [6, 5, 4],\n",
        " [3, 2, 1]])"
      ],
      "metadata": {
        "id": "89b75799"
      },
      "execution_count": null,
      "outputs": [],
      "id": "89b75799"
    },
    {
      "cell_type": "code",
      "source": [
        "matrix_product = np.dot(matrix1, matrix2)\n",
        "matrix_division = np.divide(matrix1, matrix2)\n",
        "\n",
        "print(\"Matrix Multiplication:\")\n",
        "print(matrix_product)\n",
        "\n",
        "print(\"\\nElement-wise Matrix Division:\")\n",
        "print(matrix_division)\n"
      ],
      "metadata": {
        "id": "6581c149",
        "outputId": "1bf54c45-f0b5-45a8-aa9b-f541bf53073e"
      },
      "execution_count": null,
      "outputs": [
        {
          "name": "stdout",
          "output_type": "stream",
          "text": "Matrix Multiplication:\n\n[[ 30  24  18]\n\n [ 84  69  54]\n\n [138 114  90]]\n\n\n\nElement-wise Matrix Division:\n\n[[0.11111111 0.25       0.42857143]\n\n [0.66666667 1.         1.5       ]\n\n [2.33333333 4.         9.        ]]\n"
        }
      ],
      "id": "6581c149"
    },
    {
      "cell_type": "code",
      "source": [
        "# In the first Python program, we leverage NumPy to perform addition and subtraction of matrices.\n",
        "# Two matrices are defined, and the NumPy operators '+' and '-' are used to carry out element-wise addition and subtraction, respectively.\n",
        "# This showcases the ease with which NumPy handles basic linear algebra operations, providing a concise and efficient way to manipulate matrices.\n",
        "# The resulting matrices after addition and subtraction are displayed, demonstrating the outcomes of these operations.\n",
        "# The second program focuses on matrix multiplication and division using NumPy. It defines two matrices,\n",
        "# and the NumPy function `dot` is employed for multiplication, providing the product of the matrices.\n",
        "# Additionally, matrix division is demonstrated by utilizing the `inv` function to find the inverse of one matrix and multiplying it with the other.\n",
        "# These operations showcase the versatility of NumPy in performing fundamental linear algebra computations, essential for various scientific\n",
        "# and engineering applications."
      ],
      "metadata": {
        "id": "2b268c5c-84a0-4d73-a804-25b97e5d6e14"
      },
      "execution_count": null,
      "outputs": [],
      "id": "2b268c5c-84a0-4d73-a804-25b97e5d6e14"
    }
  ]
}
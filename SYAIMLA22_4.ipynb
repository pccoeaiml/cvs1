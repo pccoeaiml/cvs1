{
  "metadata": {
    "kernelspec": {
      "name": "python",
      "display_name": "Python (Pyodide)",
      "language": "python"
    },
    "language_info": {
      "codemirror_mode": {
        "name": "python",
        "version": 3
      },
      "file_extension": ".py",
      "mimetype": "text/x-python",
      "name": "python",
      "nbconvert_exporter": "python",
      "pygments_lexer": "ipython3",
      "version": "3.8"
    },
    "colab": {
      "provenance": []
    }
  },
  "nbformat_minor": 5,
  "nbformat": 4,
  "cells": [
    {
      "cell_type": "code",
      "source": [
        "import numpy as np\n",
        "\n",
        "matrix = np.array([[1, 2, 3],\n",
        " [4, 5, 6],\n",
        " [7, 8, 9]])"
      ],
      "metadata": {
        "id": "92e1259e"
      },
      "execution_count": null,
      "outputs": [],
      "id": "92e1259e"
    },
    {
      "cell_type": "code",
      "source": [
        "matrix_transpose = np.transpose(matrix)\n",
        "\n",
        "print(\"Original Matrix:\")\n",
        "print(matrix)\n",
        "\n",
        "print(\"\\nTransposed Matrix:\")\n",
        "print(matrix_transpose)\n"
      ],
      "metadata": {
        "id": "0ee15576",
        "outputId": "6776b62e-0b2d-4bb8-85c3-79974e406934"
      },
      "execution_count": null,
      "outputs": [
        {
          "name": "stdout",
          "output_type": "stream",
          "text": "Original Matrix:\n\n[[1 2 3]\n\n [4 5 6]\n\n [7 8 9]]\n\n\n\nTransposed Matrix:\n\n[[1 4 7]\n\n [2 5 8]\n\n [3 6 9]]\n"
        }
      ],
      "id": "0ee15576"
    },
    {
      "cell_type": "code",
      "source": [
        "A = np.array([[2, 1],\n",
        " [1, 3]])\n",
        "\n",
        "B = np.array([5, 8])"
      ],
      "metadata": {
        "id": "a8a7ce9e"
      },
      "execution_count": null,
      "outputs": [],
      "id": "a8a7ce9e"
    },
    {
      "cell_type": "code",
      "source": [
        "x = np.linalg.solve(A, B)\n",
        "\n",
        "print(\"Solution:\")\n",
        "print(x)"
      ],
      "metadata": {
        "id": "5229926c",
        "outputId": "44e6349d-534c-4a96-eaa9-11d53cbe29a2"
      },
      "execution_count": null,
      "outputs": [
        {
          "name": "stdout",
          "output_type": "stream",
          "text": "Solution:\n\n[1.4 2.2]\n"
        }
      ],
      "id": "5229926c"
    },
    {
      "cell_type": "code",
      "source": [
        "# In the first Python program, we utilize NumPy to find the transpose of a given matrix.\n",
        "# The matrix is defined, and the NumPy function `transpose` is employed to compute its transpose.\n",
        "# This operation switches the rows and columns of the matrix, resulting in a new matrix with columns becoming rows and vice versa.\n",
        "# The original and transposed matrices are then displayed, showcasing the transformation.\n",
        "# The second program delves into solving linear systems of equations using matrices and vectors.\n",
        "# It constructs a coefficient matrix 'A' and a right-hand side vector 'B'.\n",
        "# The NumPy function `linalg.solve` efficiently computes the solution vector 'x' for the linear system Ax = B.\n",
        "# The resulting solution provides values for the variables in the system that satisfy all the equations.\n",
        "# This demonstrates the application of linear algebra techniques to solve real-world problems involving systems of linear equations."
      ],
      "metadata": {
        "id": "8109b4e9-bd13-4c67-a69f-d659b889b8d9"
      },
      "execution_count": null,
      "outputs": [],
      "id": "8109b4e9-bd13-4c67-a69f-d659b889b8d9"
    }
  ]
}
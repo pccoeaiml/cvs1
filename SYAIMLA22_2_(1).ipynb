{
  "metadata": {
    "kernelspec": {
      "name": "python",
      "display_name": "Python (Pyodide)",
      "language": "python"
    },
    "language_info": {
      "codemirror_mode": {
        "name": "python",
        "version": 3
      },
      "file_extension": ".py",
      "mimetype": "text/x-python",
      "name": "python",
      "nbconvert_exporter": "python",
      "pygments_lexer": "ipython3",
      "version": "3.8"
    },
    "colab": {
      "provenance": []
    }
  },
  "nbformat_minor": 5,
  "nbformat": 4,
  "cells": [
    {
      "cell_type": "code",
      "source": [
        "#tuple\n",
        "\n",
        "my_tuple = (10, 20, 30, 40, 50)\n",
        "reversed_tuple = my_tuple[::-1]\n",
        "print(\"Reversed Tuple:\", reversed_tuple)"
      ],
      "metadata": {
        "id": "a162a8f8",
        "outputId": "7ac53e5c-81c9-4dd6-8bfa-1dc0193371a7"
      },
      "execution_count": null,
      "outputs": [
        {
          "name": "stdout",
          "output_type": "stream",
          "text": "Reversed Tuple: (50, 40, 30, 20, 10)\n"
        }
      ],
      "id": "a162a8f8"
    },
    {
      "cell_type": "code",
      "source": [
        "a, b, c, d, e = my_tuple\n",
        "print(\"Unpacked Values:\", a, b, c, d, e)"
      ],
      "metadata": {
        "id": "90531223",
        "outputId": "21a20ade-0d59-40b6-df0e-8e04f1d6d6a9"
      },
      "execution_count": null,
      "outputs": [
        {
          "name": "stdout",
          "output_type": "stream",
          "text": "Unpacked Values: 10 20 30 40 50\n"
        }
      ],
      "id": "90531223"
    },
    {
      "cell_type": "code",
      "source": [
        "specific_value = my_tuple[2]\n",
        "print(\"Specific Value:\", specific_value)"
      ],
      "metadata": {
        "id": "a5d914b7",
        "outputId": "912a24cd-ae52-42ca-ef2d-86722cef047b"
      },
      "execution_count": null,
      "outputs": [
        {
          "name": "stdout",
          "output_type": "stream",
          "text": "Specific Value: 30\n"
        }
      ],
      "id": "a5d914b7"
    },
    {
      "cell_type": "code",
      "source": [
        "#dictionary\n",
        "\n",
        "original_dict = {'a': 1, 'b': 2, 'c': 3, 'd': 4, 'e': 5}\n",
        "\n",
        "new_dict1 = {'a': original_dict['a'], 'b': original_dict['c'], 'e': original_dict['e']}\n",
        "print(\"New Dictionary 1:\", new_dict1)\n"
      ],
      "metadata": {
        "id": "64625dff",
        "outputId": "c1429400-37e5-4555-d0bd-1145dda2e00a"
      },
      "execution_count": null,
      "outputs": [
        {
          "name": "stdout",
          "output_type": "stream",
          "text": "New Dictionary 1: {'a': 1, 'b': 3, 'e': 5}\n"
        }
      ],
      "id": "64625dff"
    },
    {
      "cell_type": "code",
      "source": [
        "keys_to_extract = ['b', 'd']\n",
        "new_dict2 = {key: original_dict[key] for key in keys_to_extract}\n",
        "\n",
        "print(\"New Dictionary 2:\", new_dict2)\n"
      ],
      "metadata": {
        "id": "8b0fb61b",
        "outputId": "24bc869f-bac4-4625-ce57-2880fd68ea8a"
      },
      "execution_count": null,
      "outputs": [
        {
          "name": "stdout",
          "output_type": "stream",
          "text": "New Dictionary 2: {'b': 2, 'd': 4}\n"
        }
      ],
      "id": "8b0fb61b"
    },
    {
      "cell_type": "code",
      "source": [
        "# In the first Python program, we explore operations on tuples.\n",
        "# It focuses on reversing a tuple, unpacking a tuple into multiple variables,\n",
        "# and accessing a specific value from the tuple. The tuple is defined, and Python's tuple manipulation features are employed.\n",
        "# The `[::-1]` slicing technique is utilized for reversing the tuple, and tuple unpacking allows assigning individual elements to multiple variables.\n",
        "# Additionally, indexing is demonstrated to access a specific value. This program showcases the versatility of tuples and how they can be efficiently\n",
        "# manipulated in Python.\n",
        "# The second program revolves around dictionary operations.\n",
        "# It highlights merging two dictionaries and creating a new dictionary by extracting only the key values from an existing dictionary.\n",
        "# Using Python's dictionary methods, such as `update` for merging dictionaries and dictionary comprehension for extracting key values,\n",
        "# this program illustrates practical scenarios where these operations can be valuable. These examples showcase the flexibility\n",
        "# and expressiveness of Python's dictionary data structure."
      ],
      "metadata": {
        "id": "6d985070"
      },
      "execution_count": null,
      "outputs": [],
      "id": "6d985070"
    }
  ]
}
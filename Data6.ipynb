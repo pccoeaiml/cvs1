{
  "metadata": {
    "language_info": {
      "codemirror_mode": {
        "name": "python",
        "version": 3
      },
      "file_extension": ".py",
      "mimetype": "text/x-python",
      "name": "python",
      "nbconvert_exporter": "python",
      "pygments_lexer": "ipython3",
      "version": "3.8"
    },
    "kernelspec": {
      "name": "python",
      "display_name": "Python (Pyodide)",
      "language": "python"
    }
  },
  "nbformat_minor": 4,
  "nbformat": 4,
  "cells": [
    {
      "cell_type": "code",
      "source": "import pandas as pd\nimport numpy as np",
      "metadata": {
        "trusted": true
      },
      "execution_count": 2,
      "outputs": []
    },
    {
      "cell_type": "code",
      "source": "data=pd.read_csv(\"weight-height.csv\")\ndata",
      "metadata": {
        "trusted": true
      },
      "execution_count": 3,
      "outputs": [
        {
          "execution_count": 3,
          "output_type": "execute_result",
          "data": {
            "text/plain": "      Gender     Height      Weight\n0       Male  73.847017  241.893563\n1       Male  68.781904  162.310473\n2       Male  74.110105  212.740856\n3       Male  71.730978  220.042470\n4       Male  69.881796  206.349801\n...      ...        ...         ...\n9995  Female  66.172652  136.777454\n9996  Female  67.067155  170.867906\n9997  Female  63.867992  128.475319\n9998  Female  69.034243  163.852461\n9999  Female  61.944246  113.649103\n\n[10000 rows x 3 columns]",
            "text/html": "<div>\n<style scoped>\n    .dataframe tbody tr th:only-of-type {\n        vertical-align: middle;\n    }\n\n    .dataframe tbody tr th {\n        vertical-align: top;\n    }\n\n    .dataframe thead th {\n        text-align: right;\n    }\n</style>\n<table border=\"1\" class=\"dataframe\">\n  <thead>\n    <tr style=\"text-align: right;\">\n      <th></th>\n      <th>Gender</th>\n      <th>Height</th>\n      <th>Weight</th>\n    </tr>\n  </thead>\n  <tbody>\n    <tr>\n      <th>0</th>\n      <td>Male</td>\n      <td>73.847017</td>\n      <td>241.893563</td>\n    </tr>\n    <tr>\n      <th>1</th>\n      <td>Male</td>\n      <td>68.781904</td>\n      <td>162.310473</td>\n    </tr>\n    <tr>\n      <th>2</th>\n      <td>Male</td>\n      <td>74.110105</td>\n      <td>212.740856</td>\n    </tr>\n    <tr>\n      <th>3</th>\n      <td>Male</td>\n      <td>71.730978</td>\n      <td>220.042470</td>\n    </tr>\n    <tr>\n      <th>4</th>\n      <td>Male</td>\n      <td>69.881796</td>\n      <td>206.349801</td>\n    </tr>\n    <tr>\n      <th>...</th>\n      <td>...</td>\n      <td>...</td>\n      <td>...</td>\n    </tr>\n    <tr>\n      <th>9995</th>\n      <td>Female</td>\n      <td>66.172652</td>\n      <td>136.777454</td>\n    </tr>\n    <tr>\n      <th>9996</th>\n      <td>Female</td>\n      <td>67.067155</td>\n      <td>170.867906</td>\n    </tr>\n    <tr>\n      <th>9997</th>\n      <td>Female</td>\n      <td>63.867992</td>\n      <td>128.475319</td>\n    </tr>\n    <tr>\n      <th>9998</th>\n      <td>Female</td>\n      <td>69.034243</td>\n      <td>163.852461</td>\n    </tr>\n    <tr>\n      <th>9999</th>\n      <td>Female</td>\n      <td>61.944246</td>\n      <td>113.649103</td>\n    </tr>\n  </tbody>\n</table>\n<p>10000 rows × 3 columns</p>\n</div>"
          },
          "metadata": {}
        }
      ]
    },
    {
      "cell_type": "code",
      "source": "std=data.Height.std()\nstd",
      "metadata": {
        "trusted": true
      },
      "execution_count": 7,
      "outputs": [
        {
          "execution_count": 7,
          "output_type": "execute_result",
          "data": {
            "text/plain": "3.8475281207732293"
          },
          "metadata": {}
        }
      ]
    },
    {
      "cell_type": "code",
      "source": "mean=data.Height.mean()\nmean",
      "metadata": {
        "trusted": true
      },
      "execution_count": 8,
      "outputs": [
        {
          "execution_count": 8,
          "output_type": "execute_result",
          "data": {
            "text/plain": "66.36755975482124"
          },
          "metadata": {}
        }
      ]
    },
    {
      "cell_type": "code",
      "source": "upper=mean+3*std\nupper",
      "metadata": {
        "trusted": true
      },
      "execution_count": 9,
      "outputs": [
        {
          "execution_count": 9,
          "output_type": "execute_result",
          "data": {
            "text/plain": "77.91014411714093"
          },
          "metadata": {}
        }
      ]
    },
    {
      "cell_type": "code",
      "source": "lower=mean-3*std\nlower",
      "metadata": {
        "trusted": true
      },
      "execution_count": 11,
      "outputs": [
        {
          "execution_count": 11,
          "output_type": "execute_result",
          "data": {
            "text/plain": "54.82497539250156"
          },
          "metadata": {}
        }
      ]
    },
    {
      "cell_type": "code",
      "source": "data[(data.Height>upper) | (data.Height<lower)]\n",
      "metadata": {
        "trusted": true
      },
      "execution_count": 21,
      "outputs": [
        {
          "execution_count": 21,
          "output_type": "execute_result",
          "data": {
            "text/plain": "      Gender     Height      Weight\n994     Male  78.095867  255.690835\n1317    Male  78.462053  227.342565\n2014    Male  78.998742  269.989699\n3285    Male  78.528210  253.889004\n3757    Male  78.621374  245.733783\n6624  Female  54.616858   71.393749\n9285  Female  54.263133   64.700127",
            "text/html": "<div>\n<style scoped>\n    .dataframe tbody tr th:only-of-type {\n        vertical-align: middle;\n    }\n\n    .dataframe tbody tr th {\n        vertical-align: top;\n    }\n\n    .dataframe thead th {\n        text-align: right;\n    }\n</style>\n<table border=\"1\" class=\"dataframe\">\n  <thead>\n    <tr style=\"text-align: right;\">\n      <th></th>\n      <th>Gender</th>\n      <th>Height</th>\n      <th>Weight</th>\n    </tr>\n  </thead>\n  <tbody>\n    <tr>\n      <th>994</th>\n      <td>Male</td>\n      <td>78.095867</td>\n      <td>255.690835</td>\n    </tr>\n    <tr>\n      <th>1317</th>\n      <td>Male</td>\n      <td>78.462053</td>\n      <td>227.342565</td>\n    </tr>\n    <tr>\n      <th>2014</th>\n      <td>Male</td>\n      <td>78.998742</td>\n      <td>269.989699</td>\n    </tr>\n    <tr>\n      <th>3285</th>\n      <td>Male</td>\n      <td>78.528210</td>\n      <td>253.889004</td>\n    </tr>\n    <tr>\n      <th>3757</th>\n      <td>Male</td>\n      <td>78.621374</td>\n      <td>245.733783</td>\n    </tr>\n    <tr>\n      <th>6624</th>\n      <td>Female</td>\n      <td>54.616858</td>\n      <td>71.393749</td>\n    </tr>\n    <tr>\n      <th>9285</th>\n      <td>Female</td>\n      <td>54.263133</td>\n      <td>64.700127</td>\n    </tr>\n  </tbody>\n</table>\n</div>"
          },
          "metadata": {}
        }
      ]
    },
    {
      "cell_type": "code",
      "source": "outliers=data[(data.Height<upper) & (data.Height>lower)]\noutliers.shape",
      "metadata": {
        "trusted": true
      },
      "execution_count": 24,
      "outputs": [
        {
          "execution_count": 24,
          "output_type": "execute_result",
          "data": {
            "text/plain": "(9993, 3)"
          },
          "metadata": {}
        }
      ]
    },
    {
      "cell_type": "code",
      "source": "data.shape[0]-outliers.shape[0]",
      "metadata": {
        "trusted": true
      },
      "execution_count": 27,
      "outputs": [
        {
          "execution_count": 27,
          "output_type": "execute_result",
          "data": {
            "text/plain": "7"
          },
          "metadata": {}
        }
      ]
    },
    {
      "cell_type": "code",
      "source": "# z_score method",
      "metadata": {},
      "execution_count": null,
      "outputs": []
    },
    {
      "cell_type": "code",
      "source": "# zscore\ndata['zscore']=(data.Height-data.Height.mean())/data.Height.std()\ndata.head()",
      "metadata": {
        "trusted": true
      },
      "execution_count": 36,
      "outputs": [
        {
          "execution_count": 36,
          "output_type": "execute_result",
          "data": {
            "text/plain": "  Gender     Height      Weight    zscore\n0   Male  73.847017  241.893563  1.943964\n1   Male  68.781904  162.310473  0.627505\n2   Male  74.110105  212.740856  2.012343\n3   Male  71.730978  220.042470  1.393991\n4   Male  69.881796  206.349801  0.913375",
            "text/html": "<div>\n<style scoped>\n    .dataframe tbody tr th:only-of-type {\n        vertical-align: middle;\n    }\n\n    .dataframe tbody tr th {\n        vertical-align: top;\n    }\n\n    .dataframe thead th {\n        text-align: right;\n    }\n</style>\n<table border=\"1\" class=\"dataframe\">\n  <thead>\n    <tr style=\"text-align: right;\">\n      <th></th>\n      <th>Gender</th>\n      <th>Height</th>\n      <th>Weight</th>\n      <th>zscore</th>\n    </tr>\n  </thead>\n  <tbody>\n    <tr>\n      <th>0</th>\n      <td>Male</td>\n      <td>73.847017</td>\n      <td>241.893563</td>\n      <td>1.943964</td>\n    </tr>\n    <tr>\n      <th>1</th>\n      <td>Male</td>\n      <td>68.781904</td>\n      <td>162.310473</td>\n      <td>0.627505</td>\n    </tr>\n    <tr>\n      <th>2</th>\n      <td>Male</td>\n      <td>74.110105</td>\n      <td>212.740856</td>\n      <td>2.012343</td>\n    </tr>\n    <tr>\n      <th>3</th>\n      <td>Male</td>\n      <td>71.730978</td>\n      <td>220.042470</td>\n      <td>1.393991</td>\n    </tr>\n    <tr>\n      <th>4</th>\n      <td>Male</td>\n      <td>69.881796</td>\n      <td>206.349801</td>\n      <td>0.913375</td>\n    </tr>\n  </tbody>\n</table>\n</div>"
          },
          "metadata": {}
        }
      ]
    },
    {
      "cell_type": "code",
      "source": "data[(data['zscore']>3)]",
      "metadata": {
        "trusted": true
      },
      "execution_count": 37,
      "outputs": [
        {
          "execution_count": 37,
          "output_type": "execute_result",
          "data": {
            "text/plain": "     Gender     Height      Weight    zscore\n994    Male  78.095867  255.690835  3.048271\n1317   Male  78.462053  227.342565  3.143445\n2014   Male  78.998742  269.989699  3.282934\n3285   Male  78.528210  253.889004  3.160640\n3757   Male  78.621374  245.733783  3.184854",
            "text/html": "<div>\n<style scoped>\n    .dataframe tbody tr th:only-of-type {\n        vertical-align: middle;\n    }\n\n    .dataframe tbody tr th {\n        vertical-align: top;\n    }\n\n    .dataframe thead th {\n        text-align: right;\n    }\n</style>\n<table border=\"1\" class=\"dataframe\">\n  <thead>\n    <tr style=\"text-align: right;\">\n      <th></th>\n      <th>Gender</th>\n      <th>Height</th>\n      <th>Weight</th>\n      <th>zscore</th>\n    </tr>\n  </thead>\n  <tbody>\n    <tr>\n      <th>994</th>\n      <td>Male</td>\n      <td>78.095867</td>\n      <td>255.690835</td>\n      <td>3.048271</td>\n    </tr>\n    <tr>\n      <th>1317</th>\n      <td>Male</td>\n      <td>78.462053</td>\n      <td>227.342565</td>\n      <td>3.143445</td>\n    </tr>\n    <tr>\n      <th>2014</th>\n      <td>Male</td>\n      <td>78.998742</td>\n      <td>269.989699</td>\n      <td>3.282934</td>\n    </tr>\n    <tr>\n      <th>3285</th>\n      <td>Male</td>\n      <td>78.528210</td>\n      <td>253.889004</td>\n      <td>3.160640</td>\n    </tr>\n    <tr>\n      <th>3757</th>\n      <td>Male</td>\n      <td>78.621374</td>\n      <td>245.733783</td>\n      <td>3.184854</td>\n    </tr>\n  </tbody>\n</table>\n</div>"
          },
          "metadata": {}
        }
      ]
    },
    {
      "cell_type": "code",
      "source": "data[(data['zscore']<-3)]",
      "metadata": {
        "trusted": true
      },
      "execution_count": 38,
      "outputs": [
        {
          "execution_count": 38,
          "output_type": "execute_result",
          "data": {
            "text/plain": "      Gender     Height     Weight    zscore\n6624  Female  54.616858  71.393749 -3.054091\n9285  Female  54.263133  64.700127 -3.146027",
            "text/html": "<div>\n<style scoped>\n    .dataframe tbody tr th:only-of-type {\n        vertical-align: middle;\n    }\n\n    .dataframe tbody tr th {\n        vertical-align: top;\n    }\n\n    .dataframe thead th {\n        text-align: right;\n    }\n</style>\n<table border=\"1\" class=\"dataframe\">\n  <thead>\n    <tr style=\"text-align: right;\">\n      <th></th>\n      <th>Gender</th>\n      <th>Height</th>\n      <th>Weight</th>\n      <th>zscore</th>\n    </tr>\n  </thead>\n  <tbody>\n    <tr>\n      <th>6624</th>\n      <td>Female</td>\n      <td>54.616858</td>\n      <td>71.393749</td>\n      <td>-3.054091</td>\n    </tr>\n    <tr>\n      <th>9285</th>\n      <td>Female</td>\n      <td>54.263133</td>\n      <td>64.700127</td>\n      <td>-3.146027</td>\n    </tr>\n  </tbody>\n</table>\n</div>"
          },
          "metadata": {}
        }
      ]
    },
    {
      "cell_type": "code",
      "source": "data=data.drop('Weight',axis=1)\ndata",
      "metadata": {
        "trusted": true
      },
      "execution_count": 49,
      "outputs": [
        {
          "execution_count": 49,
          "output_type": "execute_result",
          "data": {
            "text/plain": "      Gender     Height    zscore\n0       Male  73.847017  1.943964\n1       Male  68.781904  0.627505\n2       Male  74.110105  2.012343\n3       Male  71.730978  1.393991\n4       Male  69.881796  0.913375\n...      ...        ...       ...\n9995  Female  66.172652 -0.050658\n9996  Female  67.067155  0.181830\n9997  Female  63.867992 -0.649655\n9998  Female  69.034243  0.693090\n9999  Female  61.944246 -1.149651\n\n[10000 rows x 3 columns]",
            "text/html": "<div>\n<style scoped>\n    .dataframe tbody tr th:only-of-type {\n        vertical-align: middle;\n    }\n\n    .dataframe tbody tr th {\n        vertical-align: top;\n    }\n\n    .dataframe thead th {\n        text-align: right;\n    }\n</style>\n<table border=\"1\" class=\"dataframe\">\n  <thead>\n    <tr style=\"text-align: right;\">\n      <th></th>\n      <th>Gender</th>\n      <th>Height</th>\n      <th>zscore</th>\n    </tr>\n  </thead>\n  <tbody>\n    <tr>\n      <th>0</th>\n      <td>Male</td>\n      <td>73.847017</td>\n      <td>1.943964</td>\n    </tr>\n    <tr>\n      <th>1</th>\n      <td>Male</td>\n      <td>68.781904</td>\n      <td>0.627505</td>\n    </tr>\n    <tr>\n      <th>2</th>\n      <td>Male</td>\n      <td>74.110105</td>\n      <td>2.012343</td>\n    </tr>\n    <tr>\n      <th>3</th>\n      <td>Male</td>\n      <td>71.730978</td>\n      <td>1.393991</td>\n    </tr>\n    <tr>\n      <th>4</th>\n      <td>Male</td>\n      <td>69.881796</td>\n      <td>0.913375</td>\n    </tr>\n    <tr>\n      <th>...</th>\n      <td>...</td>\n      <td>...</td>\n      <td>...</td>\n    </tr>\n    <tr>\n      <th>9995</th>\n      <td>Female</td>\n      <td>66.172652</td>\n      <td>-0.050658</td>\n    </tr>\n    <tr>\n      <th>9996</th>\n      <td>Female</td>\n      <td>67.067155</td>\n      <td>0.181830</td>\n    </tr>\n    <tr>\n      <th>9997</th>\n      <td>Female</td>\n      <td>63.867992</td>\n      <td>-0.649655</td>\n    </tr>\n    <tr>\n      <th>9998</th>\n      <td>Female</td>\n      <td>69.034243</td>\n      <td>0.693090</td>\n    </tr>\n    <tr>\n      <th>9999</th>\n      <td>Female</td>\n      <td>61.944246</td>\n      <td>-1.149651</td>\n    </tr>\n  </tbody>\n</table>\n<p>10000 rows × 3 columns</p>\n</div>"
          },
          "metadata": {}
        }
      ]
    },
    {
      "cell_type": "code",
      "source": "#using IQR method \ndata",
      "metadata": {
        "trusted": true
      },
      "execution_count": 51,
      "outputs": [
        {
          "execution_count": 51,
          "output_type": "execute_result",
          "data": {
            "text/plain": "      Gender     Height    zscore\n0       Male  73.847017  1.943964\n1       Male  68.781904  0.627505\n2       Male  74.110105  2.012343\n3       Male  71.730978  1.393991\n4       Male  69.881796  0.913375\n...      ...        ...       ...\n9995  Female  66.172652 -0.050658\n9996  Female  67.067155  0.181830\n9997  Female  63.867992 -0.649655\n9998  Female  69.034243  0.693090\n9999  Female  61.944246 -1.149651\n\n[10000 rows x 3 columns]",
            "text/html": "<div>\n<style scoped>\n    .dataframe tbody tr th:only-of-type {\n        vertical-align: middle;\n    }\n\n    .dataframe tbody tr th {\n        vertical-align: top;\n    }\n\n    .dataframe thead th {\n        text-align: right;\n    }\n</style>\n<table border=\"1\" class=\"dataframe\">\n  <thead>\n    <tr style=\"text-align: right;\">\n      <th></th>\n      <th>Gender</th>\n      <th>Height</th>\n      <th>zscore</th>\n    </tr>\n  </thead>\n  <tbody>\n    <tr>\n      <th>0</th>\n      <td>Male</td>\n      <td>73.847017</td>\n      <td>1.943964</td>\n    </tr>\n    <tr>\n      <th>1</th>\n      <td>Male</td>\n      <td>68.781904</td>\n      <td>0.627505</td>\n    </tr>\n    <tr>\n      <th>2</th>\n      <td>Male</td>\n      <td>74.110105</td>\n      <td>2.012343</td>\n    </tr>\n    <tr>\n      <th>3</th>\n      <td>Male</td>\n      <td>71.730978</td>\n      <td>1.393991</td>\n    </tr>\n    <tr>\n      <th>4</th>\n      <td>Male</td>\n      <td>69.881796</td>\n      <td>0.913375</td>\n    </tr>\n    <tr>\n      <th>...</th>\n      <td>...</td>\n      <td>...</td>\n      <td>...</td>\n    </tr>\n    <tr>\n      <th>9995</th>\n      <td>Female</td>\n      <td>66.172652</td>\n      <td>-0.050658</td>\n    </tr>\n    <tr>\n      <th>9996</th>\n      <td>Female</td>\n      <td>67.067155</td>\n      <td>0.181830</td>\n    </tr>\n    <tr>\n      <th>9997</th>\n      <td>Female</td>\n      <td>63.867992</td>\n      <td>-0.649655</td>\n    </tr>\n    <tr>\n      <th>9998</th>\n      <td>Female</td>\n      <td>69.034243</td>\n      <td>0.693090</td>\n    </tr>\n    <tr>\n      <th>9999</th>\n      <td>Female</td>\n      <td>61.944246</td>\n      <td>-1.149651</td>\n    </tr>\n  </tbody>\n</table>\n<p>10000 rows × 3 columns</p>\n</div>"
          },
          "metadata": {}
        }
      ]
    },
    {
      "cell_type": "code",
      "source": "data.describe()",
      "metadata": {
        "trusted": true
      },
      "execution_count": 52,
      "outputs": [
        {
          "execution_count": 52,
          "output_type": "execute_result",
          "data": {
            "text/plain": "             Height        zscore\ncount  10000.000000  1.000000e+04\nmean      66.367560  2.273737e-16\nstd        3.847528  1.000000e+00\nmin       54.263133 -3.146027e+00\n25%       63.505620 -7.438384e-01\n50%       66.318070 -1.286272e-02\n75%       69.174262  7.294819e-01\nmax       78.998742  3.282934e+00",
            "text/html": "<div>\n<style scoped>\n    .dataframe tbody tr th:only-of-type {\n        vertical-align: middle;\n    }\n\n    .dataframe tbody tr th {\n        vertical-align: top;\n    }\n\n    .dataframe thead th {\n        text-align: right;\n    }\n</style>\n<table border=\"1\" class=\"dataframe\">\n  <thead>\n    <tr style=\"text-align: right;\">\n      <th></th>\n      <th>Height</th>\n      <th>zscore</th>\n    </tr>\n  </thead>\n  <tbody>\n    <tr>\n      <th>count</th>\n      <td>10000.000000</td>\n      <td>1.000000e+04</td>\n    </tr>\n    <tr>\n      <th>mean</th>\n      <td>66.367560</td>\n      <td>2.273737e-16</td>\n    </tr>\n    <tr>\n      <th>std</th>\n      <td>3.847528</td>\n      <td>1.000000e+00</td>\n    </tr>\n    <tr>\n      <th>min</th>\n      <td>54.263133</td>\n      <td>-3.146027e+00</td>\n    </tr>\n    <tr>\n      <th>25%</th>\n      <td>63.505620</td>\n      <td>-7.438384e-01</td>\n    </tr>\n    <tr>\n      <th>50%</th>\n      <td>66.318070</td>\n      <td>-1.286272e-02</td>\n    </tr>\n    <tr>\n      <th>75%</th>\n      <td>69.174262</td>\n      <td>7.294819e-01</td>\n    </tr>\n    <tr>\n      <th>max</th>\n      <td>78.998742</td>\n      <td>3.282934e+00</td>\n    </tr>\n  </tbody>\n</table>\n</div>"
          },
          "metadata": {}
        }
      ]
    },
    {
      "cell_type": "code",
      "source": "Q1=data.Height.quantile(0.25)\nQ1",
      "metadata": {
        "trusted": true
      },
      "execution_count": 53,
      "outputs": [
        {
          "execution_count": 53,
          "output_type": "execute_result",
          "data": {
            "text/plain": "63.505620481218955"
          },
          "metadata": {}
        }
      ]
    },
    {
      "cell_type": "code",
      "source": "Q3=data.Height.quantile(0.75)\nQ3",
      "metadata": {
        "trusted": true
      },
      "execution_count": 54,
      "outputs": [
        {
          "execution_count": 54,
          "output_type": "execute_result",
          "data": {
            "text/plain": "69.1742617268347"
          },
          "metadata": {}
        }
      ]
    },
    {
      "cell_type": "code",
      "source": "IQR=Q3-Q1",
      "metadata": {
        "trusted": true
      },
      "execution_count": 55,
      "outputs": []
    },
    {
      "cell_type": "code",
      "source": "IQR",
      "metadata": {
        "trusted": true
      },
      "execution_count": 56,
      "outputs": [
        {
          "execution_count": 56,
          "output_type": "execute_result",
          "data": {
            "text/plain": "5.668641245615746"
          },
          "metadata": {}
        }
      ]
    },
    {
      "cell_type": "code",
      "source": "upper=Q3+1.5*IQR\nupper",
      "metadata": {
        "trusted": true
      },
      "execution_count": 57,
      "outputs": [
        {
          "execution_count": 57,
          "output_type": "execute_result",
          "data": {
            "text/plain": "77.67722359525831"
          },
          "metadata": {}
        }
      ]
    },
    {
      "cell_type": "code",
      "source": "lower=Q1-1.5*IQR\nlower",
      "metadata": {
        "trusted": true
      },
      "execution_count": 58,
      "outputs": [
        {
          "execution_count": 58,
          "output_type": "execute_result",
          "data": {
            "text/plain": "55.00265861279534"
          },
          "metadata": {}
        }
      ]
    },
    {
      "cell_type": "code",
      "source": "o=data[(data.Height<upper) & (data.Height>lower)]\no",
      "metadata": {
        "trusted": true
      },
      "execution_count": 67,
      "outputs": [
        {
          "execution_count": 67,
          "output_type": "execute_result",
          "data": {
            "text/plain": "      Gender     Height    zscore\n0       Male  73.847017  1.943964\n1       Male  68.781904  0.627505\n2       Male  74.110105  2.012343\n3       Male  71.730978  1.393991\n4       Male  69.881796  0.913375\n...      ...        ...       ...\n9995  Female  66.172652 -0.050658\n9996  Female  67.067155  0.181830\n9997  Female  63.867992 -0.649655\n9998  Female  69.034243  0.693090\n9999  Female  61.944246 -1.149651\n\n[9992 rows x 3 columns]",
            "text/html": "<div>\n<style scoped>\n    .dataframe tbody tr th:only-of-type {\n        vertical-align: middle;\n    }\n\n    .dataframe tbody tr th {\n        vertical-align: top;\n    }\n\n    .dataframe thead th {\n        text-align: right;\n    }\n</style>\n<table border=\"1\" class=\"dataframe\">\n  <thead>\n    <tr style=\"text-align: right;\">\n      <th></th>\n      <th>Gender</th>\n      <th>Height</th>\n      <th>zscore</th>\n    </tr>\n  </thead>\n  <tbody>\n    <tr>\n      <th>0</th>\n      <td>Male</td>\n      <td>73.847017</td>\n      <td>1.943964</td>\n    </tr>\n    <tr>\n      <th>1</th>\n      <td>Male</td>\n      <td>68.781904</td>\n      <td>0.627505</td>\n    </tr>\n    <tr>\n      <th>2</th>\n      <td>Male</td>\n      <td>74.110105</td>\n      <td>2.012343</td>\n    </tr>\n    <tr>\n      <th>3</th>\n      <td>Male</td>\n      <td>71.730978</td>\n      <td>1.393991</td>\n    </tr>\n    <tr>\n      <th>4</th>\n      <td>Male</td>\n      <td>69.881796</td>\n      <td>0.913375</td>\n    </tr>\n    <tr>\n      <th>...</th>\n      <td>...</td>\n      <td>...</td>\n      <td>...</td>\n    </tr>\n    <tr>\n      <th>9995</th>\n      <td>Female</td>\n      <td>66.172652</td>\n      <td>-0.050658</td>\n    </tr>\n    <tr>\n      <th>9996</th>\n      <td>Female</td>\n      <td>67.067155</td>\n      <td>0.181830</td>\n    </tr>\n    <tr>\n      <th>9997</th>\n      <td>Female</td>\n      <td>63.867992</td>\n      <td>-0.649655</td>\n    </tr>\n    <tr>\n      <th>9998</th>\n      <td>Female</td>\n      <td>69.034243</td>\n      <td>0.693090</td>\n    </tr>\n    <tr>\n      <th>9999</th>\n      <td>Female</td>\n      <td>61.944246</td>\n      <td>-1.149651</td>\n    </tr>\n  </tbody>\n</table>\n<p>9992 rows × 3 columns</p>\n</div>"
          },
          "metadata": {}
        }
      ]
    },
    {
      "cell_type": "code",
      "source": "data.shape[0]-o.shape[0]",
      "metadata": {
        "trusted": true
      },
      "execution_count": 68,
      "outputs": [
        {
          "execution_count": 68,
          "output_type": "execute_result",
          "data": {
            "text/plain": "8"
          },
          "metadata": {}
        }
      ]
    },
    {
      "cell_type": "code",
      "source": "",
      "metadata": {},
      "execution_count": null,
      "outputs": []
    }
  ]
}